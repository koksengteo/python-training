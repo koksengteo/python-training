{
  "nbformat": 4,
  "nbformat_minor": 0,
  "metadata": {
    "colab": {
      "name": "My New Notebook.ipynb",
      "provenance": [],
      "authorship_tag": "ABX9TyN3rmvQtpXXIYyD3RFRrhH9",
      "include_colab_link": true
    },
    "kernelspec": {
      "name": "python3",
      "display_name": "Python 3"
    }
  },
  "cells": [
    {
      "cell_type": "markdown",
      "metadata": {
        "id": "view-in-github",
        "colab_type": "text"
      },
      "source": [
        "<a href=\"https://colab.research.google.com/github/koksengteo/python-training/blob/main/My_New_Notebook.ipynb\" target=\"_parent\"><img src=\"https://colab.research.google.com/assets/colab-badge.svg\" alt=\"Open In Colab\"/></a>"
      ]
    },
    {
      "cell_type": "code",
      "metadata": {
        "colab": {
          "base_uri": "https://localhost:8080/"
        },
        "id": "dM2kcbZJ4-oK",
        "outputId": "543ff65c-d269-4468-d3ea-ba01bf9136c4"
      },
      "source": [
        "2*(3+4)"
      ],
      "execution_count": 1,
      "outputs": [
        {
          "output_type": "execute_result",
          "data": {
            "text/plain": [
              "14"
            ]
          },
          "metadata": {
            "tags": []
          },
          "execution_count": 1
        }
      ]
    },
    {
      "cell_type": "markdown",
      "metadata": {
        "id": "yYu50-WL5Tjj"
      },
      "source": [
        "My First Notebook"
      ]
    },
    {
      "cell_type": "code",
      "metadata": {
        "colab": {
          "base_uri": "https://localhost:8080/"
        },
        "id": "2yMZDvIF507m",
        "outputId": "bbcaa790-78a6-47e7-a587-c9fe90ad470f"
      },
      "source": [
        "print('first value:',1)\r\n",
        "print('second value:',2)"
      ],
      "execution_count": 2,
      "outputs": [
        {
          "output_type": "stream",
          "text": [
            "first value: 1\n",
            "second value: 2\n"
          ],
          "name": "stdout"
        }
      ]
    },
    {
      "cell_type": "code",
      "metadata": {
        "colab": {
          "base_uri": "https://localhost:8080/"
        },
        "id": "3WdzlxFs6jHM",
        "outputId": "440d3417-770d-4c06-db2d-e7ee312dba87"
      },
      "source": [
        "Numbers=[4,3,2,1]\r\n",
        "Numbers.sort()\r\n",
        "print(Numbers)"
      ],
      "execution_count": 3,
      "outputs": [
        {
          "output_type": "stream",
          "text": [
            "[1, 2, 3, 4]\n"
          ],
          "name": "stdout"
        }
      ]
    }
  ]
}