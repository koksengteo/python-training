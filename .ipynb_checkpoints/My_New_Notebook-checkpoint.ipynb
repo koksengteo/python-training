{
 "cells": [
  {
   "cell_type": "markdown",
   "metadata": {
    "colab_type": "text",
    "id": "view-in-github"
   },
   "source": [
    "<a href=\"https://colab.research.google.com/github/koksengteo/python-training/blob/main/My_New_Notebook.ipynb\" target=\"_parent\"><img src=\"https://colab.research.google.com/assets/colab-badge.svg\" alt=\"Open In Colab\"/></a>"
   ]
  },
  {
   "cell_type": "code",
   "execution_count": 1,
   "metadata": {
    "colab": {
     "base_uri": "https://localhost:8080/"
    },
    "id": "dM2kcbZJ4-oK",
    "outputId": "543ff65c-d269-4468-d3ea-ba01bf9136c4"
   },
   "outputs": [
    {
     "data": {
      "text/plain": [
       "14"
      ]
     },
     "execution_count": 1,
     "metadata": {
      "tags": []
     },
     "output_type": "execute_result"
    }
   ],
   "source": [
    "2*(3+4)"
   ]
  },
  {
   "cell_type": "markdown",
   "metadata": {
    "id": "yYu50-WL5Tjj"
   },
   "source": [
    "My First Notebook"
   ]
  },
  {
   "cell_type": "code",
   "execution_count": 2,
   "metadata": {
    "colab": {
     "base_uri": "https://localhost:8080/"
    },
    "id": "2yMZDvIF507m",
    "outputId": "bbcaa790-78a6-47e7-a587-c9fe90ad470f"
   },
   "outputs": [
    {
     "name": "stdout",
     "output_type": "stream",
     "text": [
      "first value: 1\n",
      "second value: 2\n"
     ]
    }
   ],
   "source": [
    "print('first value:',1)\n",
    "print('second value:',2)"
   ]
  },
  {
   "cell_type": "code",
   "execution_count": 3,
   "metadata": {
    "colab": {
     "base_uri": "https://localhost:8080/"
    },
    "id": "3WdzlxFs6jHM",
    "outputId": "440d3417-770d-4c06-db2d-e7ee312dba87"
   },
   "outputs": [
    {
     "name": "stdout",
     "output_type": "stream",
     "text": [
      "[1, 2, 3, 4]\n"
     ]
    }
   ],
   "source": [
    "Numbers=[4,3,2,1]\n",
    "Numbers.sort()\n",
    "print(Numbers)"
   ]
  }
 ],
 "metadata": {
  "colab": {
   "authorship_tag": "ABX9TyN3rmvQtpXXIYyD3RFRrhH9",
   "include_colab_link": true,
   "name": "My New Notebook.ipynb",
   "provenance": []
  },
  "kernelspec": {
   "display_name": "Python 3",
   "language": "python",
   "name": "python3"
  },
  "language_info": {
   "codemirror_mode": {
    "name": "ipython",
    "version": 3
   },
   "file_extension": ".py",
   "mimetype": "text/x-python",
   "name": "python",
   "nbconvert_exporter": "python",
   "pygments_lexer": "ipython3",
   "version": "3.8.8"
  }
 },
 "nbformat": 4,
 "nbformat_minor": 1
}
